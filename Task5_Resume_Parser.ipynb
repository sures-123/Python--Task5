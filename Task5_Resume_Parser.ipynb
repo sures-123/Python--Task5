{
  "nbformat": 4,
  "nbformat_minor": 0,
  "metadata": {
    "colab": {
      "provenance": [],
      "authorship_tag": "ABX9TyMd9jrUdFFrS7B266RYTF6x",
      "include_colab_link": true
    },
    "kernelspec": {
      "name": "python3",
      "display_name": "Python 3"
    },
    "language_info": {
      "name": "python"
    }
  },
  "cells": [
    {
      "cell_type": "markdown",
      "metadata": {
        "id": "view-in-github",
        "colab_type": "text"
      },
      "source": [
        "<a href=\"https://colab.research.google.com/github/sures-123/Python--Task5/blob/main/Task5_Resume_Parser.ipynb\" target=\"_parent\"><img src=\"https://colab.research.google.com/assets/colab-badge.svg\" alt=\"Open In Colab\"/></a>"
      ]
    },
    {
      "cell_type": "markdown",
      "source": [
        "**Import spacy & PhraseMatcher libraries**"
      ],
      "metadata": {
        "id": "YJTCnK8eS2Dl"
      }
    },
    {
      "cell_type": "code",
      "execution_count": 121,
      "metadata": {
        "id": "hYAIm-2QQr9C"
      },
      "outputs": [],
      "source": [
        "import spacy\n",
        "from spacy.matcher import PhraseMatcher"
      ]
    },
    {
      "cell_type": "markdown",
      "source": [
        "**Load spaCy English Model**"
      ],
      "metadata": {
        "id": "VUS3lIJiTClh"
      }
    },
    {
      "cell_type": "code",
      "source": [
        "nlp = spacy.load(\"en_core_web_sm\")\n",
        "resume_text = \"\"\"Name:Durgaprasad Ramalayam  Street, City, State, 531085\n",
        "                            Email: n180972@rguktn.ac.in\n",
        "                            Phone: 17330640851\n",
        "                            Skills: Python, Java, Machine Learning,DataScience,CloudComputing,Artificial Intelligence\n",
        "                            Education: Bachelor of Science in Computer Science, Rajiv Gandhi University Knowledge & Technologies, 2018-2024\"\"\"\n",
        "matcher = PhraseMatcher(nlp.vocab)\n",
        "#patterns to match\n",
        "patterns = [nlp(\"Skills:\"),\n",
        "                  nlp(\"Education:\"),\n",
        "                  nlp(\"Email:\"),\n",
        "                  nlp(\"Phone:\"),]\n",
        "matcher.add(\"RESUME_PATTERNS\", None, *patterns)\n",
        "doc = nlp(resume_text)\n",
        "matches = matcher(doc)\n",
        "for match_id, start, end in matches:\n",
        "    print(f\"Matched phrase: {doc[start:end].text} (start: {start}, end: {end})\")"
      ],
      "metadata": {
        "colab": {
          "base_uri": "https://localhost:8080/"
        },
        "id": "iVbhzPq2RAZ5",
        "outputId": "29bea897-e337-42c9-b7cc-0eefd06e2b66"
      },
      "execution_count": 122,
      "outputs": [
        {
          "output_type": "stream",
          "name": "stdout",
          "text": [
            "Matched phrase: Email: (start: 13, end: 15)\n",
            "Matched phrase: Phone: (start: 17, end: 19)\n",
            "Matched phrase: Skills: (start: 21, end: 23)\n",
            "Matched phrase: Education: (start: 37, end: 39)\n"
          ]
        }
      ]
    },
    {
      "cell_type": "markdown",
      "source": [
        "**Example-2: Patterns match Education**"
      ],
      "metadata": {
        "id": "mLZDhlCbV-tf"
      }
    },
    {
      "cell_type": "code",
      "source": [
        "nlp = spacy.load(\"en_core_web_sm\")\n",
        "resume_text = \"\"\"Name:Durgaprasad Ramalayam  Street, City, State, 531085\n",
        "                            Email: n180972@rguktn.ac.in\n",
        "                            Phone: 17330640851\n",
        "                            Skills: Python, Java, Machine Learning,DataScience,CloudComputing,Artificial Intelligence\n",
        "                            Education: Bachelor of Science in Computer Science, Rajiv Gandhi University Knowledge & Technologies, 2018-2024\"\"\"\n",
        "matcher = PhraseMatcher(nlp.vocab)\n",
        "education_patterns = [\n",
        "    nlp(\"Bachelor of Science\"),\n",
        "    nlp(\"Rajiv Gandhi University Knowledge & Technologies\"),\n",
        "    nlp(\"Ph.D.\"), ]\n",
        "matcher.add(\"EDUCATION\", None, *education_patterns)\n",
        "doc = nlp(resume_text)\n",
        "education_matches = matcher(doc)\n",
        "print(\"Education:\")\n",
        "for match_id, start, end in education_matches:\n",
        "    print(f\"- {doc[start:end].text} (start: {start}, end: {end})\")"
      ],
      "metadata": {
        "colab": {
          "base_uri": "https://localhost:8080/"
        },
        "id": "AX5qLzSzV3ze",
        "outputId": "36603e24-1f86-40f5-a78e-c6483ee55af2"
      },
      "execution_count": 123,
      "outputs": [
        {
          "output_type": "stream",
          "name": "stdout",
          "text": [
            "Education:\n",
            "- Bachelor of Science (start: 39, end: 42)\n",
            "- Rajiv Gandhi University Knowledge & Technologies (start: 46, end: 52)\n"
          ]
        }
      ]
    },
    {
      "cell_type": "markdown",
      "source": [
        "**Example 3:Patterns Matching Skills**"
      ],
      "metadata": {
        "id": "iKRmvjeUS0qx"
      }
    },
    {
      "cell_type": "code",
      "source": [
        "nlp = spacy.load(\"en_core_web_sm\")\n",
        "resume_text = \"\"\"Name:Durgaprasad Ramalayam  Street, City, State, 531085\n",
        "                            Email: n180972@rguktn.ac.in\n",
        "                            Phone: 17330640851\n",
        "                            Skills: Python, Java, Machine Learning,DataScience,CloudComputing,Artificial Intelligence\n",
        "                            Education: Bachelor of Science in Computer Science, Rajiv Gandhi University Knowledge & Technologies, 2018-2024\"\"\"\n",
        "matcher = PhraseMatcher(nlp.vocab)\n",
        "skills_patterns = [\n",
        "    nlp(\"Python\"),\n",
        "    nlp(\"C\"),\n",
        "    nlp(\"Java\"),\n",
        "    nlp(\"HTML\"),\n",
        "    nlp(\"DataScience\"),nlp(\"Machine Learning\"),]\n",
        "matcher.add(\"SKILLS\", None, *skills_patterns)\n",
        "doc = nlp(resume_text)\n",
        "skills_matches = matcher(doc)\n",
        "print(\"Skills:\")\n",
        "for match_id, start, end in skills_matches:\n",
        "    print(f\"- {doc[start:end].text} (start: {start}, end: {end})\")"
      ],
      "metadata": {
        "colab": {
          "base_uri": "https://localhost:8080/"
        },
        "id": "Pe1Y-bZ1XX3w",
        "outputId": "a2266f26-2519-479e-f0e8-73378b58baa2"
      },
      "execution_count": 124,
      "outputs": [
        {
          "output_type": "stream",
          "name": "stdout",
          "text": [
            "Skills:\n",
            "- Python (start: 23, end: 24)\n",
            "- Java (start: 25, end: 26)\n",
            "- Machine Learning (start: 27, end: 29)\n",
            "- DataScience (start: 30, end: 31)\n"
          ]
        }
      ]
    },
    {
      "cell_type": "markdown",
      "source": [
        "**Example-04: By uploading Excel File**"
      ],
      "metadata": {
        "id": "wQ5gGhY7aRIs"
      }
    },
    {
      "cell_type": "code",
      "source": [
        "import pandas as pd\n",
        "from spacy.matcher import PhraseMatcher\n",
        "import spacy"
      ],
      "metadata": {
        "id": "ctmNew3faKAl"
      },
      "execution_count": 125,
      "outputs": []
    },
    {
      "cell_type": "markdown",
      "source": [
        "***Match All The Patterns In Excel File***"
      ],
      "metadata": {
        "id": "CryFxGcwn0Ru"
      }
    },
    {
      "cell_type": "code",
      "source": [
        "nlp = spacy.load(\"en_core_web_sm\")\n",
        "file_path = '/content/resumeparser.xlsx'\n",
        "df = pd.read_excel(file_path)\n",
        "matcher = PhraseMatcher(nlp.vocab)\n",
        "matcher.add(\"PATTERNS\", None, *patterns)\n",
        "resume_text = \"\"\"\n",
        "                            Skills: Python, Java,Machine Learning ,Cloud\n",
        "                            Education: Bachelor of Science in Computer Science\n",
        "                                              Master of Science in Data Science\n",
        "                            \"\"\"\n",
        "doc = nlp(resume_text)\n",
        "matches = matcher(doc)\n",
        "for match_id, start, end in matches:\n",
        "\n",
        "    print(f\"Matched phrase : {doc[start:end].text} (start: {start}, end: {end})\")\n",
        "    #print(matches)\n"
      ],
      "metadata": {
        "colab": {
          "base_uri": "https://localhost:8080/"
        },
        "id": "ASWd4NHagAyL",
        "outputId": "b2fe8c22-bf60-4923-f053-f18848ed8776"
      },
      "execution_count": 126,
      "outputs": [
        {
          "output_type": "stream",
          "name": "stdout",
          "text": [
            "Matched phrase : Skills: (start: 1, end: 3)\n",
            "Matched phrase : Education: (start: 12, end: 14)\n"
          ]
        }
      ]
    },
    {
      "cell_type": "markdown",
      "source": [
        "***Match Skill Patterns With Excel File***"
      ],
      "metadata": {
        "id": "J23izBD3p2F5"
      }
    },
    {
      "cell_type": "code",
      "source": [
        "matcher.add(\"PATTERNS\", None, *skills_patterns)\n",
        "resume_text = \"\"\"Name:Durgaprasad\n",
        "                            Skills: Python, Java,Machine Learning ,Cloud\n",
        "                            Phno:7330640851\"\"\"\n",
        "doc = nlp(resume_text)\n",
        "matches = matcher(doc)\n",
        "for match_id, start, end in matches:\n",
        "\n",
        "    print(f\"Matched phrase : {doc[start:end].text} (start: {start}, end: {end})\")"
      ],
      "metadata": {
        "colab": {
          "base_uri": "https://localhost:8080/"
        },
        "id": "rtrjYO_gpSj7",
        "outputId": "a336446e-70ee-46c7-8589-ab3544e3887d"
      },
      "execution_count": 127,
      "outputs": [
        {
          "output_type": "stream",
          "name": "stdout",
          "text": [
            "Matched phrase : Skills: (start: 4, end: 6)\n",
            "Matched phrase : Python (start: 6, end: 7)\n",
            "Matched phrase : Java (start: 8, end: 9)\n",
            "Matched phrase : Machine Learning (start: 10, end: 12)\n"
          ]
        }
      ]
    }
  ]
}